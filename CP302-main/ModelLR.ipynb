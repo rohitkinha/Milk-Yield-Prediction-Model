{
 "cells": [
  {
   "cell_type": "code",
   "execution_count": 1,
   "id": "c9094fd2",
   "metadata": {},
   "outputs": [],
   "source": [
    "import numpy as np\n",
    "import pandas as pd\n",
    "import matplotlib.pyplot as plt\n",
    "import seaborn as sns\n",
    "%matplotlib inline"
   ]
  },
  {
   "cell_type": "code",
   "execution_count": 2,
   "id": "5eaf50d7",
   "metadata": {},
   "outputs": [],
   "source": [
    "data1=pd.read_excel('Processed Data\\Intrinsic Data.xlsx', sheet_name=0, usecols=\"B:E,H:I\")\n",
    "data2=pd.read_excel('Processed Data\\Extrinsic Data.xlsx', sheet_name=0, usecols=\"B:P\")"
   ]
  },
  {
   "cell_type": "code",
   "execution_count": 3,
   "id": "1c3c4b92",
   "metadata": {},
   "outputs": [],
   "source": [
    "from sklearn.preprocessing import OneHotEncoder\n",
    "encoder=OneHotEncoder()\n",
    "\n",
    "# encoded_data1=pd.DataFrame(encoder.fit_transform(data1[['Breed']]).toarray())\n",
    "encoded_data2=pd.DataFrame(encoder.fit_transform(data2[['Month','District','Zone','Green \\nFodder','Dry\\n Fodder']]).toarray())\n",
    "\n",
    "# Y1_=data1['Milk Production Per \\nDay']\n",
    "# data1=data1.drop(['Breed','Milk Production Per \\nDay'],axis=1)\n",
    "\n",
    "Y2_=data2['Farm Milk Production per \\nDay']\n",
    "data2=data2.drop(['Month','District','Zone','Green \\nFodder','Dry\\n Fodder','Farm Milk Production per \\nDay'],axis=1)\n",
    "\n",
    "# data1=data1.join(encoded_data1)\n",
    "# data1=data1.join(Y1_)\n",
    "\n",
    "data2=data2.join(encoded_data2)\n",
    "data2=data2.join(Y2_)\n"
   ]
  },
  {
   "cell_type": "code",
   "execution_count": 4,
   "id": "16ee08c3",
   "metadata": {},
   "outputs": [],
   "source": [
    "# sns.heatmap((data.drop(['Size of farm which cattle belongs'],axis=1)).corr())"
   ]
  },
  {
   "cell_type": "code",
   "execution_count": 5,
   "id": "dc537555",
   "metadata": {},
   "outputs": [],
   "source": [
    "data1=data1.to_numpy()\n",
    "X1=data1[:,0:-1]\n",
    "Y1=data1[:,-1]\n",
    "\n",
    "data2=data2.to_numpy()\n",
    "X2=data2[:,0:-1]\n",
    "Y2=data2[:,-1]"
   ]
  },
  {
   "cell_type": "code",
   "execution_count": 6,
   "id": "92a6205a",
   "metadata": {},
   "outputs": [],
   "source": [
    "from sklearn.model_selection import train_test_split\n",
    "# X1_train, X1_test, Y1_train, Y1_test = train_test_split(X1, Y1, test_size = 0.01, random_state = 0)\n",
    "X2_train, X2_test, Y2_train, Y2_test = train_test_split(X2, Y2, test_size = 0.1, random_state = 0)\n",
    "\n",
    "from sklearn.linear_model import LinearRegression\n",
    "# regressor1 = LinearRegression()\n",
    "regressor2 = LinearRegression()\n",
    "# regressor1.fit(X1_train, Y1_train)\n",
    "regressor2.fit(X2_train, Y2_train)\n",
    "\n",
    "# y1_pred = regressor1.predict(X1_test)\n",
    "y2_pred = regressor2.predict(X2_test)\n",
    "# y1_pred\n",
    "# y2_pred\n"
   ]
  },
  {
   "cell_type": "code",
   "execution_count": 7,
   "id": "5bb0e265",
   "metadata": {},
   "outputs": [
    {
     "name": "stdout",
     "output_type": "stream",
     "text": [
      "7.842151571098327\n"
     ]
    }
   ],
   "source": [
    "# print(regressor1.intercept_)\n",
    "print(regressor2.intercept_)"
   ]
  },
  {
   "cell_type": "code",
   "execution_count": 8,
   "id": "40fc1102",
   "metadata": {},
   "outputs": [
    {
     "name": "stdout",
     "output_type": "stream",
     "text": [
      "[ 4.48440416e-01 -8.77445017e-01 -5.47978509e+02 -5.47834494e+02\n",
      "  1.09834427e+03  1.70973067e-01 -2.37988750e-03 -1.14508674e+00\n",
      "  5.85242786e+00  1.97728863e+00 -1.11175982e+01  1.31506156e+01\n",
      "  8.95350289e+00  1.43117547e+01 -9.28340556e+00 -9.47349524e+00\n",
      "  6.95938934e+00 -4.05936342e+00  1.37091757e+00 -3.43203453e+00\n",
      " -9.35757179e+00 -6.69783847e+00  1.41364875e+00 -4.53156868e+00\n",
      "  2.76346936e+00  7.05228904e+00  2.52072035e+00 -5.28418973e+00\n",
      "  2.76346936e+00 -5.26238195e+00 -9.30263843e+00 -9.12448499e+00\n",
      " -2.27036075e+00 -7.94249595e-01  2.67541157e+01 -2.04669263e-02\n",
      "  2.04669292e-02]\n"
     ]
    }
   ],
   "source": [
    "# print(regressor1.coef_)\n",
    "print(regressor2.coef_)"
   ]
  },
  {
   "cell_type": "code",
   "execution_count": 9,
   "id": "ea38e27e",
   "metadata": {},
   "outputs": [
    {
     "name": "stdout",
     "output_type": "stream",
     "text": [
      "976.4892914917357\n",
      "0.6763918611087769\n"
     ]
    }
   ],
   "source": [
    "from sklearn.metrics import mean_squared_error,r2_score\n",
    "# print(mean_squared_error(Y1_test,y1_pred))\n",
    "# print(r2_score(Y1_test,y1_pred))\n",
    "print(mean_squared_error(Y2_test,y2_pred))\n",
    "print(r2_score(Y2_test,y2_pred))\n"
   ]
  },
  {
   "cell_type": "markdown",
   "id": "0f4c1a77",
   "metadata": {},
   "source": []
  }
 ],
 "metadata": {
  "kernelspec": {
   "display_name": "Python 3 (ipykernel)",
   "language": "python",
   "name": "python3"
  },
  "language_info": {
   "codemirror_mode": {
    "name": "ipython",
    "version": 3
   },
   "file_extension": ".py",
   "mimetype": "text/x-python",
   "name": "python",
   "nbconvert_exporter": "python",
   "pygments_lexer": "ipython3",
   "version": "3.11.0"
  }
 },
 "nbformat": 4,
 "nbformat_minor": 5
}
