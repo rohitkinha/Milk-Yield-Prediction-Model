{
 "cells": [
  {
   "cell_type": "code",
   "execution_count": 1,
   "id": "5993093c",
   "metadata": {},
   "outputs": [],
   "source": [
    "import numpy as np\n",
    "import pandas as pd\n",
    "import matplotlib.pyplot as plt\n",
    "import seaborn as sns\n",
    "%matplotlib inline"
   ]
  },
  {
   "cell_type": "code",
   "execution_count": 2,
   "id": "bd9c8823",
   "metadata": {},
   "outputs": [],
   "source": [
    "data1=pd.read_excel('Processed Data\\Intrinsic Data.xlsx', sheet_name=0, usecols=\"B:E,H:I\")\n",
    "data2=pd.read_excel('Processed Data\\Extrinsic Data.xlsx', sheet_name=0, usecols=\"B:P\")"
   ]
  },
  {
   "cell_type": "code",
   "execution_count": null,
   "id": "fccd63ab",
   "metadata": {},
   "outputs": [],
   "source": []
  },
  {
   "cell_type": "code",
   "execution_count": 3,
   "id": "c2c184b6",
   "metadata": {},
   "outputs": [
    {
     "name": "stdout",
     "output_type": "stream",
     "text": [
      "      Farm Size  Age  Parity/Lactation no.  Age of 1st Calving    0    1    2  \\\n",
      "0             1  9.0                   4.0                 4.0  0.0  0.0  0.0   \n",
      "1             1  8.0                   4.0                 4.0  0.0  0.0  0.0   \n",
      "2             1  9.0                   4.0                 4.0  0.0  0.0  0.0   \n",
      "3             1  9.0                   4.0                 4.0  0.0  0.0  0.0   \n",
      "4             1  4.0                   1.0                 4.0  0.0  0.0  0.0   \n",
      "...         ...  ...                   ...                 ...  ...  ...  ...   \n",
      "3065         30  4.5                   4.0                 2.0  0.0  0.0  1.0   \n",
      "3066         30  5.5                   4.0                 2.0  0.0  1.0  0.0   \n",
      "3067         30  6.0                   5.0                 2.0  0.0  1.0  0.0   \n",
      "3068         30  5.5                   5.0                 2.0  0.0  1.0  0.0   \n",
      "3069         30  6.0                   5.0                 2.0  0.0  1.0  0.0   \n",
      "\n",
      "        3    4    5  Milk Production/Day  \n",
      "0     1.0  0.0  0.0                  5.0  \n",
      "1     1.0  0.0  0.0                  6.0  \n",
      "2     1.0  0.0  0.0                 10.0  \n",
      "3     1.0  0.0  0.0                  9.0  \n",
      "4     1.0  0.0  0.0                 10.0  \n",
      "...   ...  ...  ...                  ...  \n",
      "3065  0.0  0.0  0.0                 15.0  \n",
      "3066  0.0  0.0  0.0                 14.0  \n",
      "3067  0.0  0.0  0.0                  8.0  \n",
      "3068  0.0  0.0  0.0                 12.0  \n",
      "3069  0.0  0.0  0.0                 14.0  \n",
      "\n",
      "[3070 rows x 11 columns]\n"
     ]
    }
   ],
   "source": [
    "from sklearn.preprocessing import OneHotEncoder\n",
    "encoder=OneHotEncoder()\n",
    "\n",
    "encoded_data1=pd.DataFrame(encoder.fit_transform(data1[['Breed']]).toarray())\n",
    "# encoded_data\n",
    "# encoded_data2=pd.DataFrame(encoder.fit_transform(data2[['Month','District','Zone','Green \\nFodder','Dry\\n Fodder']]).toarray())\n",
    "\n",
    "Y1_=data1['Milk Production/Day']\n",
    "data1=data1.drop(['Breed','Milk Production/Day'],axis=1)\n",
    "\n",
    "# Y2_=data2['Farm Milk Production per \\nDay']\n",
    "# data2=data2.drop(['Month','District','Zone','Green \\nFodder','Dry\\n Fodder','Farm Milk Production per \\nDay'],axis=1)\n",
    "\n",
    "data1=data1.join(encoded_data1)\n",
    "data1=data1.join(Y1_)\n",
    "\n",
    "print(data1)\n",
    "\n",
    "# data2=data2.join(encoded_data2)\n",
    "# data2=data2.join(Y2_)"
   ]
  },
  {
   "cell_type": "code",
   "execution_count": null,
   "id": "23ec24c1",
   "metadata": {},
   "outputs": [],
   "source": []
  },
  {
   "cell_type": "code",
   "execution_count": 4,
   "id": "20a4228a",
   "metadata": {},
   "outputs": [
    {
     "name": "stdout",
     "output_type": "stream",
     "text": [
      "[[ 1.   9.   4.  ...  1.   0.   0. ]\n",
      " [ 1.   8.   4.  ...  1.   0.   0. ]\n",
      " [ 1.   9.   4.  ...  1.   0.   0. ]\n",
      " ...\n",
      " [30.   6.   5.  ...  0.   0.   0. ]\n",
      " [30.   5.5  5.  ...  0.   0.   0. ]\n",
      " [30.   6.   5.  ...  0.   0.   0. ]]\n",
      "[ 5.  6. 10. ...  8. 12. 14.]\n"
     ]
    }
   ],
   "source": [
    "data1=data1.to_numpy()\n",
    "X1=data1[:,0:-1]\n",
    "Y1=data1[:,-1]\n",
    "\n",
    "print(X1)\n",
    "\n",
    "print(Y1)\n",
    "\n",
    "# data2=data2.to_numpy()\n",
    "# X2=data2[:,0:-1]\n",
    "# Y2=data2[:,-1]"
   ]
  },
  {
   "cell_type": "code",
   "execution_count": 5,
   "id": "98cdb9cf",
   "metadata": {},
   "outputs": [
    {
     "name": "stdout",
     "output_type": "stream",
     "text": [
      "0.31908055820009107\n"
     ]
    }
   ],
   "source": [
    "from sklearn.model_selection import train_test_split\n",
    "X1_train, X1_test, Y1_train, Y1_test = train_test_split(X1, Y1, test_size = 0.2, random_state = 0)\n",
    "# X2_train, X2_test, Y2_train, Y2_test = train_test_split(X2, Y2, test_size = 0.2, random_state = 0)\n",
    "\n",
    "from sklearn.linear_model import LinearRegression\n",
    "# regressor1 = LinearRegression()\n",
    "# regressor2 = LinearRegression()\n",
    "# regressor1.fit(X1_train, Y1_train)\n",
    "# regressor2.fit(X2_train, Y2_train)\n",
    "\n",
    "from sklearn.preprocessing import PolynomialFeatures \n",
    "from sklearn.metrics import mean_squared_error,r2_score\n",
    "#applying polynomial regression degree 2\n",
    "poly = PolynomialFeatures(degree=3, include_bias=True)\n",
    "x_train_trans = poly.fit_transform(X1_train)\n",
    "x_test_trans = poly.transform(X1_test)\n",
    "#include bias parameter\n",
    "lr = LinearRegression()\n",
    "lr.fit(x_train_trans, Y1_train)\n",
    "y_pred = lr.predict(x_test_trans)\n",
    "\n",
    "# print(Y1_test)\n",
    "# print(y_pred)\n",
    "\n",
    "\n",
    "print(r2_score(Y1_test, y_pred))\n",
    "\n",
    "# from sklearn.preprocessing import PolynomialFeatures \n",
    "# from sklearn.metrics import mean_squared_error,r2_score\n",
    "# #applying polynomial regression degree 2\n",
    "# poly = PolynomialFeatures(degree=1, include_bias=True)\n",
    "# x_train_trans2 = poly.fit_transform(X2_train)\n",
    "# x_test_trans2 = poly.transform(X2_test)\n",
    "# #include bias parameter\n",
    "# lr2 = LinearRegression()\n",
    "# lr2.fit(x_train_trans2, Y2_train)\n",
    "# y_pred2 = lr2.predict(x_test_trans2)\n",
    "# print(r2_score(Y2_test, y_pred2))\n",
    " \n",
    "# poly_regs= PolynomialFeatures(degree= 2)  \n",
    "# x_poly= poly_regs.fit_transform(X1_train)  \n",
    "# lin_reg_2 =LinearRegression()  \n",
    "# lin_reg_2.fit(x_poly, Y1_train)  \n",
    "\n",
    "# y1_predp= lin_reg_2.predict(X1_test)\n",
    "\n",
    "# y1_pred = regressor1.predict(X1_test)\n",
    "# y2_pred = regressor2.predict(X2_test)\n",
    "# y1_pred\n",
    "# y2_pred"
   ]
  },
  {
   "cell_type": "code",
   "execution_count": 6,
   "id": "b0098ec7",
   "metadata": {},
   "outputs": [],
   "source": [
    "# from sklearn.metrics import mean_squared_error,r2_score\n",
    "# print(mean_squared_error(Y1_test,y1_predp))\n",
    "# print(r2_score(Y1_test,y1_predp))\n",
    "# print(mean_squared_error(Y2_test,y2_pred))\n",
    "# print(r2_score(Y2_test,y2_pred))"
   ]
  }
 ],
 "metadata": {
  "kernelspec": {
   "display_name": "Python 3 (ipykernel)",
   "language": "python",
   "name": "python3"
  },
  "language_info": {
   "codemirror_mode": {
    "name": "ipython",
    "version": 3
   },
   "file_extension": ".py",
   "mimetype": "text/x-python",
   "name": "python",
   "nbconvert_exporter": "python",
   "pygments_lexer": "ipython3",
   "version": "3.11.0"
  }
 },
 "nbformat": 4,
 "nbformat_minor": 5
}
