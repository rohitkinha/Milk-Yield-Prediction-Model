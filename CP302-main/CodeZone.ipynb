{
 "cells": [
  {
   "cell_type": "code",
   "execution_count": null,
   "id": "97abbd03",
   "metadata": {},
   "outputs": [],
   "source": [
    "import pandas as pd\n",
    "\n",
    "df1=pd.read_excel('Processed Data\\Intrinsic Data.xlsx',index_col=0,sheet_name=1, usecols=\"D:L\",skiprows=1)\n",
    "df1.rename(columns = {' ':'Age', 'Unnamed: 10':'Parity/Lactation no.','Unnamed: 11':'Milk production per day'},inplace=True)\n",
    "\n",
    "df2=pd.read_excel('Concentrate Feed Modelling\\Central Sangrur.xlsx',index_col=0,sheet_name=1, usecols=\"D:L\",skiprows=1)\n",
    "df2.rename(columns = {' ':'Age', 'Unnamed: 10':'Parity/Lactation no.','Unnamed: 11':'Milk production per day'},inplace=True)\n",
    "\n",
    "df3=pd.read_excel('Concentrate Feed Modelling\\SM Gurdaspur.xlsx',index_col=0,sheet_name=1, usecols=\"D:L\",skiprows=1)\n",
    "df3.rename(columns = {' ':'Age', 'Unnamed: 10':'Parity/Lactation no.','Unnamed: 11':'Milk production per day'},inplace=True)\n",
    "\n",
    "df4=pd.read_excel('Concentrate Feed Modelling\\SM Hoshiarpur.xlsx',index_col=0,sheet_name=1, usecols=\"D:L\",skiprows=1)\n",
    "df4.rename(columns = {' ':'Age', 'Unnamed: 10':'Parity/Lactation no.','Unnamed: 11':'Milk production per day'},inplace=True)\n",
    "\n",
    "df5=pd.read_excel('Concentrate Feed Modelling\\SW Muktsar.xlsx',index_col=0,sheet_name=1, usecols=\"D:L\",skiprows=1)\n",
    "df5.rename(columns = {' ':'Age', 'Unnamed: 10':'Parity/Lactation no.','Unnamed: 11':'Milk production per day'},inplace=True)\n",
    "\n",
    "\n",
    "frames1 = [df1, df2]\n",
    "result1 = pd.concat(frames1)\n",
    "\n",
    "frames2 = [df3, df4]\n",
    "result2 = pd.concat(frames2)\n",
    "\n",
    "result3=df5\n",
    "\n",
    "\n",
    "excelpath = 'CFM modified\\Zone.xlsx'\n",
    "\n",
    "with pd.ExcelWriter(excelpath) as writer:\n",
    "    (result1.loc[result1['Milk production per day']!=0]).to_excel(writer, sheet_name = 'Sheet1')\n",
    "    (result2.loc[result2['Milk production per day']!=0]).to_excel(writer, sheet_name = 'Sheet2')\n",
    "    (result3.loc[result3['Milk production per day']!=0]).to_excel(writer, sheet_name = 'Sheet3')"
   ]
  }
 ],
 "metadata": {
  "kernelspec": {
   "display_name": "Python 3 (ipykernel)",
   "language": "python",
   "name": "python3"
  },
  "language_info": {
   "codemirror_mode": {
    "name": "ipython",
    "version": 3
   },
   "file_extension": ".py",
   "mimetype": "text/x-python",
   "name": "python",
   "nbconvert_exporter": "python",
   "pygments_lexer": "ipython3",
   "version": "3.11.0"
  }
 },
 "nbformat": 4,
 "nbformat_minor": 5
}
